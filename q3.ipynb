{
  "nbformat": 4,
  "nbformat_minor": 0,
  "metadata": {
    "colab": {
      "name": "q3.ipynb",
      "version": "0.3.2",
      "provenance": []
    },
    "kernelspec": {
      "name": "python3",
      "display_name": "Python 3"
    },
    "accelerator": "GPU"
  },
  "cells": [
    {
      "metadata": {
        "id": "D0eE0DXnwOtw",
        "colab_type": "code",
        "colab": {
          "base_uri": "https://localhost:8080/",
          "height": 34
        },
        "outputId": "eef46b8e-813c-4c97-c9c9-193986585d24"
      },
      "cell_type": "code",
      "source": [
        "from google.colab import drive\n",
        "drive.mount('/content/drive')"
      ],
      "execution_count": 8,
      "outputs": [
        {
          "output_type": "stream",
          "text": [
            "Drive already mounted at /content/drive; to attempt to forcibly remount, call drive.mount(\"/content/drive\", force_remount=True).\n"
          ],
          "name": "stdout"
        }
      ]
    },
    {
      "metadata": {
        "id": "zb6HZD_Rwusl",
        "colab_type": "code",
        "colab": {
          "base_uri": "https://localhost:8080/",
          "height": 51
        },
        "outputId": "cad25884-be4e-4423-e978-a015a169a3b1"
      },
      "cell_type": "code",
      "source": [
        "cd drive"
      ],
      "execution_count": 9,
      "outputs": [
        {
          "output_type": "stream",
          "text": [
            "[Errno 2] No such file or directory: 'drive'\n",
            "/content/drive\n"
          ],
          "name": "stdout"
        }
      ]
    },
    {
      "metadata": {
        "id": "PtsTAPZSwyu0",
        "colab_type": "code",
        "colab": {}
      },
      "cell_type": "code",
      "source": [
        "import torch \n",
        "import numpy as np \n",
        "import torchvision.transforms as transforms \n",
        "import torchvision \n",
        "import torch.nn.functional as FUNC\n",
        "import pandas as pd\n",
        "import os\n",
        "from PIL import Image"
      ],
      "execution_count": 0,
      "outputs": []
    },
    {
      "metadata": {
        "id": "i7n7gb1Ew1jW",
        "colab_type": "code",
        "colab": {}
      },
      "cell_type": "code",
      "source": [
        "class simple_block(torch.nn.Module):\n",
        "    #No expansion in base block so value is 1\n",
        "    expansion = 1\n",
        "    #planes: desired output plane\n",
        "    #dim_change: Change the value if the input shape has to change\n",
        "    def __init__(self,input_planes,planes,stride=1,dim_change=None):\n",
        "        super(simple_block,self).__init__()\n",
        "        \n",
        "        #declare convolutional layers with batch norms\n",
        "        #In ResNet18, each residual block has 1 convolution layer and 1 batch normalization layer, twice\n",
        "        #Values of kernal size and stride according to paper\n",
        "        self.conv_1 = torch.nn.Conv2d(input_planes,planes,stride=stride,kernel_size=3,padding=1)\n",
        "        #Batch Normalization\n",
        "        self.bn_1   = torch.nn.BatchNorm2d(planes)\n",
        "        self.conv_2 = torch.nn.Conv2d(planes,planes,stride=1,kernel_size=3,padding=1)\n",
        "        self.bn_2   = torch.nn.BatchNorm2d(planes)\n",
        "        #If the input size has to be changed then change this value\n",
        "        self.dim_change = dim_change\n",
        "    def forward(self,x):\n",
        "        #residue\n",
        "        res = x\n",
        "        #First output: first convolve then batch normalize\n",
        "        output = FUNC.relu(self.bn_1(self.conv_1(x)))\n",
        "        #Next connected layer\n",
        "        output = self.bn_2(self.conv_2(output))\n",
        "        #Change the dimensions if needed\n",
        "        if self.dim_change is not None:\n",
        "            res = self.dim_change(res)\n",
        "        #Add the residue with this output\n",
        "        output += res\n",
        "        #Then pass through ReLU\n",
        "        output = FUNC.relu(output)\n",
        "\n",
        "        return output\n"
      ],
      "execution_count": 0,
      "outputs": []
    },
    {
      "metadata": {
        "id": "F74dZbHUw4r5",
        "colab_type": "code",
        "colab": {}
      },
      "cell_type": "code",
      "source": [
        "class ResNet(torch.nn.Module):\n",
        "  #num_layers: number of times of each block\n",
        "    def __init__(self,block,num_layers,classes=8):\n",
        "        super(ResNet,self).__init__()\n",
        "        #First convolution has 64 layers\n",
        "        #according to research paper:\n",
        "        self.input_planes = 64\n",
        "        #Converts 3 channels to 64 channels\n",
        "        self.conv_1 = torch.nn.Conv2d(3,64,kernel_size=3,stride=1,padding=1)\n",
        "        self.bn_1   = torch.nn.BatchNorm2d(64)\n",
        "        #num_layer = [2,2,2,2] for ResNet18\n",
        "        self.layer_1 = self._layer(block,64,num_layers[0],stride=1)\n",
        "        self.layer_2 = self._layer(block,128,num_layers[1],stride=2)\n",
        "        self.layer_3 = self._layer(block,256,num_layers[2],stride=2)\n",
        "        self.layer_4 = self._layer(block,512,num_layers[3],stride=2)\n",
        "        #Average pool using 4x4 filter size with stride 1\n",
        "        self.averagePool = torch.nn.AdaptiveAvgPool2d((1,1))\n",
        "        #Fully connected layer has 512 times the number of times the block was extended\n",
        "        self.f_c    =  torch.nn.Linear(512*block.expansion,classes)\n",
        "    \n",
        "    #planes: Number of layers you want to have in the block\n",
        "    def _layer(self,block,planes,num_layers,stride=1):\n",
        "        dim_change = None\n",
        "        if stride!=1 or planes != self.input_planes*block.expansion:\n",
        "            dim_change = torch.nn.Sequential(torch.nn.Conv2d(self.input_planes,planes*block.expansion,kernel_size=1,stride=stride),\n",
        "                                             torch.nn.BatchNorm2d(planes*block.expansion))\n",
        "        #Using sequential the dimensions can be changed\n",
        "        Layers =[]\n",
        "        #Append the first block\n",
        "        Layers.append(block(self.input_planes,planes,stride=stride,dim_change=dim_change))\n",
        "        #The input size changes due to above layer\n",
        "        self.input_planes = planes * block.expansion\n",
        "        for i in range(1,num_layers):\n",
        "            Layers.append(block(self.input_planes,planes))\n",
        "            self.input_planes = planes * block.expansion\n",
        "        \n",
        "        #Converting all the Layers to fully connected layer\n",
        "        return torch.nn.Sequential(*Layers)\n",
        "\n",
        "    def forward(self,x):\n",
        "        x = FUNC.relu(self.bn_1(self.conv_1(x)))\n",
        "\n",
        "        x = self.layer_1(x)\n",
        "        x = self.layer_2(x)\n",
        "        x = self.layer_3(x)\n",
        "        x = self.layer_4(x)\n",
        "\n",
        "        x = self.averagePool(x)\n",
        "        x = x.view(x.size(0),-1)\n",
        "        x = self.f_c(x)\n",
        "        return x\n"
      ],
      "execution_count": 0,
      "outputs": []
    },
    {
      "metadata": {
        "id": "ASMqTWYWw8Go",
        "colab_type": "code",
        "colab": {}
      },
      "cell_type": "code",
      "source": [
        "class FaceLandmarksDataset():\n",
        "    \"\"\"Face Landmarks dataset.\"\"\"\n",
        "\n",
        "    def __init__(self,root_dir,total_count, csv_file, transform=None):\n",
        "        \n",
        "        self.root_dir = root_dir\n",
        "        self.total_count = total_count\n",
        "        self.csv_file = np.array(pd.read_csv(csv_file,header=None))[0]\n",
        "        self.transform = transform\n",
        "\n",
        "    def __len__(self):\n",
        "        return self.total_count\n",
        "\n",
        "    def __getitem__(self, image_no):\n",
        "        img_name = os.path.join(self.root_dir,\n",
        "                                str(image_no+1)+\".jpg\")\n",
        "        image = Image.open(img_name)\n",
        "        sample = {'image': image, 'label': self.csv_file[image_no]-1}\n",
        "\n",
        "        if self.transform:\n",
        "            sample['image'] = self.transform(sample['image'])\n",
        "\n",
        "        return sample    "
      ],
      "execution_count": 0,
      "outputs": []
    },
    {
      "metadata": {
        "id": "Gw6HbZJvxBGF",
        "colab_type": "code",
        "colab": {}
      },
      "cell_type": "code",
      "source": [
        "def test():\n",
        "        #To convert data from PIL to tensor\n",
        "    transform = transforms.Compose(\n",
        "        [transforms.ToTensor(),\n",
        "        transforms.Normalize((0.5, 0.5, 0.5), (0.5, 0.5, 0.5))]\n",
        "        )\n",
        "\n",
        "    \n",
        "    trainDataset = FaceLandmarksDataset('/content/drive/My Drive/HW3_data/train',1888,'/content/drive/My Drive/HW3_data/train_labels.csv',transforms.Compose([\n",
        "        transforms.RandomResizedCrop(224),\n",
        "        transforms.RandomHorizontalFlip(),\n",
        "        transforms.ToTensor(),\n",
        "        transforms.Normalize([0.485, 0.456, 0.406], [0.229, 0.224, 0.225])\n",
        "    ]))\n",
        "\n",
        "    testDataset = FaceLandmarksDataset('/content/drive/My Drive/HW3_data/test',800,'/content/drive/My Drive/HW3_data/test_labels.csv',transforms.Compose([\n",
        "        transforms.Resize(256),\n",
        "        transforms.CenterCrop(224),\n",
        "        transforms.ToTensor(),\n",
        "        transforms.Normalize([0.485, 0.456, 0.406], [0.229, 0.224, 0.225])\n",
        "    ]))\n",
        "    trainDataloader = torch.utils.data.DataLoader(trainDataset,batch_size = 8, shuffle = True, num_workers=4)\n",
        "    testDataloader = torch.utils.data.DataLoader(testDataset,batch_size = 8, shuffle = True, num_workers=4)\n",
        "    \n",
        "    device = torch.device(\"cuda:0\" if torch.cuda.is_available() else \"cpu\")\n",
        "    print(device)\n",
        "\n",
        "    #ResNet-18 \n",
        "    net = ResNet(simple_block,[2,2,2,2],8)\n",
        "\n",
        "    net.to(device)\n",
        "    costFunc = torch.nn.CrossEntropyLoss()\n",
        "    optimizer =  torch.optim.SGD(net.parameters(),lr=0.02,momentum=0.9)\n",
        "\n",
        "    for epoch in range(5):\n",
        "        print(\"epoch no:\"+str(epoch))\n",
        "        closs = 0\n",
        "        for i,batch in enumerate(trainDataloader,0):\n",
        "            data,output = batch['image'],batch['label']\n",
        "            data,output = data.to(device),output.to(device)\n",
        "            predict = net(data)\n",
        "            loss = costFunc(predict,output)\n",
        "            closs = loss.item()\n",
        "\n",
        "            optimizer.zero_grad()\n",
        "            loss.backward()\n",
        "            optimizer.step()\n",
        "            #print every 1000th time\n",
        "            if i%100 == 0:\n",
        "                print('[epoch no:%d  batch no:%d] loss: %.5f'% (epoch+1,i+1,closs/1000))\n",
        "                closs = 0\n",
        "        correct_Hits=0\n",
        "        total=0\n",
        "        for batches in testDataloader:\n",
        "            data,output = batches['image'],batches['label']\n",
        "            data,output = data.to(device),output.to(device)\n",
        "            predict = net(data)\n",
        "            _,predict = torch.max(predict.data,1)  #returns max as well as its index\n",
        "            total += output.size(0)\n",
        "            correct_Hits += (predict==output).sum().item()\n",
        "        print('Accuracy on epoch ',epoch+1,'= ',str((correct_Hits/total)*100))\n",
        "        print(\"------------------------------------------------------\")\n",
        "\n",
        "    correct_Hits=0\n",
        "    total=0\n",
        "    for batches in testDataloader:\n",
        "        data,output = batches['image'],batches['label']\n",
        "        data,output = data.to(device),output.to(device)\n",
        "        predict = net(data)\n",
        "        _,predict = torch.max(predict.data,1)  #returns max as well as its index\n",
        "        total += output.size(0)\n",
        "        correct_Hits += (predict==output).sum().item()\n",
        "    print('Accuracy = '+str((correct_Hits/total)*100))\n",
        "\n",
        "\n",
        "test()"
      ],
      "execution_count": 0,
      "outputs": []
    },
    {
      "metadata": {
        "id": "QBt3ktxzxIRD",
        "colab_type": "code",
        "colab": {}
      },
      "cell_type": "code",
      "source": [
        ""
      ],
      "execution_count": 0,
      "outputs": []
    }
  ]
}