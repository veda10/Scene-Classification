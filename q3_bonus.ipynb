{
  "nbformat": 4,
  "nbformat_minor": 0,
  "metadata": {
    "colab": {
      "name": "q3.ipynb",
      "version": "0.3.2",
      "provenance": [],
      "collapsed_sections": []
    },
    "kernelspec": {
      "name": "python3",
      "display_name": "Python 3"
    },
    "accelerator": "GPU"
  },
  "cells": [
    {
      "metadata": {
        "id": "rgEt0swCcS51",
        "colab_type": "code",
        "colab": {
          "base_uri": "https://localhost:8080/",
          "height": 34
        },
        "outputId": "93e2d5de-0a53-4e97-9655-36e826cef64d"
      },
      "cell_type": "code",
      "source": [
        "from google.colab import drive\n",
        "drive.mount('/content/drive')"
      ],
      "execution_count": 16,
      "outputs": [
        {
          "output_type": "stream",
          "text": [
            "Drive already mounted at /content/drive; to attempt to forcibly remount, call drive.mount(\"/content/drive\", force_remount=True).\n"
          ],
          "name": "stdout"
        }
      ]
    },
    {
      "metadata": {
        "id": "5R9BG1_BcV71",
        "colab_type": "code",
        "colab": {}
      },
      "cell_type": "code",
      "source": [
        "import torch \n",
        "import numpy as np \n",
        "import torchvision.transforms as transforms \n",
        "import torchvision \n",
        "import torch.nn.functional as FUNC"
      ],
      "execution_count": 0,
      "outputs": []
    },
    {
      "metadata": {
        "id": "QC3HJZmIcaF8",
        "colab_type": "code",
        "colab": {}
      },
      "cell_type": "code",
      "source": [
        "class simple_block(torch.nn.Module):\n",
        "    #its value is 1 as there is no expansion in simple base block\n",
        "    expansion = 1\n",
        "    #planes: desired output plane\n",
        "    #dim_change: if the input shape has to change,Change the value \n",
        "    def __init__(self,input_planes,planes,stride=1,dim_change=None):\n",
        "        super(simple_block,self).__init__()\n",
        "        #declaring convolutional layers with batch norms\n",
        "        #In ResNet18,there are 2 pairs of each residual block has 1 convolution layer and 1 batch normalization layer\n",
        "        #Values of kernal size and stride (according to paper)\n",
        "        self.conv_1 = torch.nn.Conv2d(input_planes,planes,stride=stride,kernel_size=3,padding=1)\n",
        "        #Batch Normalization\n",
        "        self.bn_1   = torch.nn.BatchNorm2d(planes)\n",
        "        self.conv_2 = torch.nn.Conv2d(planes,planes,stride=1,kernel_size=3,padding=1)\n",
        "        self.bn_2   = torch.nn.BatchNorm2d(planes)\n",
        "        #If the input size has to be changed then change this value\n",
        "        self.dim_change = dim_change\n",
        "    def forward(self,x):\n",
        "        #Saving the residue\n",
        "        res = x\n",
        "        #First output: first convolve then batch normalize\n",
        "        output = FUNC.relu(self.bn_1(self.conv_1(x)))\n",
        "        #Next connected layer output\n",
        "        output = self.bn_2(self.conv_2(output))\n",
        "        #Change the dimensions when needed\n",
        "        if self.dim_change is not None:\n",
        "            res = self.dim_change(res)\n",
        "        #Adding the residue with this output\n",
        "        output += res\n",
        "        #Then pass through ReLU\n",
        "        output = FUNC.relu(output)\n",
        "\n",
        "        return output\n"
      ],
      "execution_count": 0,
      "outputs": []
    },
    {
      "metadata": {
        "id": "-GtNkJGPcdVw",
        "colab_type": "code",
        "colab": {}
      },
      "cell_type": "code",
      "source": [
        "class ResNet(torch.nn.Module):\n",
        "    #num_layers: number of times each block is there\n",
        "    def __init__(self,block,num_layers,classes=10):\n",
        "        super(ResNet,self).__init__()\n",
        "        #First convolution has 64 layers\n",
        "        self.input_planes = 64\n",
        "        #Converts 3 channels to 64 channels\n",
        "        self.conv_1 = torch.nn.Conv2d(3,64,kernel_size=3,stride=1,padding=1)\n",
        "        self.bn_1   = torch.nn.BatchNorm2d(64)\n",
        "        #num_layer = [2,2,2,2] for ResNet18\n",
        "        self.layer_1 = self._layer(block,64,num_layers[0],stride=1)\n",
        "        self.layer_2 = self._layer(block,128,num_layers[1],stride=2)\n",
        "        self.layer_3 = self._layer(block,256,num_layers[2],stride=2)\n",
        "        self.layer_4 = self._layer(block,512,num_layers[3],stride=2)\n",
        "        #Average pool using 4x4 filter size with stride 1\n",
        "        self.averagePool = torch.nn.AvgPool2d(kernel_size=4,stride=1)\n",
        "        #Fully connected layer has 512 times the number of times the block was extended\n",
        "        self.f_c    =  torch.nn.Linear(512*block.expansion,classes)\n",
        "    \n",
        "    #Forwards the output\n",
        "    def forward(self,x):\n",
        "        x = FUNC.relu(self.bn_1(self.conv_1(x)))\n",
        "        #Pass through the layers\n",
        "        x = self.layer_1(x)\n",
        "        x = self.layer_2(x)\n",
        "        x = self.layer_3(x)\n",
        "        x = self.layer_4(x)\n",
        "        #Pass through average pool\n",
        "        x = FUNC.avg_pool2d(x,4)\n",
        "        x = x.view(x.size(0),-1)\n",
        "        x = self.f_c(x)\n",
        "\n",
        "        return x\n",
        "\n",
        "    \n",
        "    #planes: Number of layers you want to have in the block\n",
        "    def _layer(self,block,planes,num_layers,stride=1):\n",
        "        dim_change = None\n",
        "        if stride!=1 or planes != self.input_planes*block.expansion:\n",
        "            dim_change = torch.nn.Sequential(torch.nn.Conv2d(self.input_planes,planes*block.expansion,kernel_size=1,stride=stride),\n",
        "                                             torch.nn.BatchNorm2d(planes*block.expansion))\n",
        "        #Using sequential the dimensions can be changed\n",
        "        Layers =[]\n",
        "        #Append the first block\n",
        "        Layers.append(block(self.input_planes,planes,stride=stride,dim_change=dim_change))\n",
        "        #The input size changes due to above layer\n",
        "        self.input_planes = planes * block.expansion\n",
        "        for i in range(1,num_layers):\n",
        "            Layers.append(block(self.input_planes,planes))\n",
        "            self.input_planes = planes * block.expansion\n",
        "        #Converting all the Layers to fully connected layer\n",
        "        return torch.nn.Sequential(*Layers)\n",
        "    "
      ],
      "execution_count": 0,
      "outputs": []
    },
    {
      "metadata": {
        "id": "BKpeKxw9ciw2",
        "colab_type": "code",
        "colab": {
          "base_uri": "https://localhost:8080/",
          "height": 680
        },
        "outputId": "631eaadd-acbb-46a4-bf21-3c9ec99fb094"
      },
      "cell_type": "code",
      "source": [
        "\n",
        "def test():\n",
        "        #To convert data from PIL to tensor\n",
        "    transform = transforms.Compose(\n",
        "        [transforms.ToTensor(),\n",
        "        transforms.Normalize((0.5, 0.5, 0.5), (0.5, 0.5, 0.5))]\n",
        "        )\n",
        "\n",
        "    #Load train and test set:\n",
        "    train = torchvision.datasets.CIFAR10(root='./data',train=True,download=True,transform=transform)\n",
        "    train_set = torch.utils.data.DataLoader(train,batch_size=128,shuffle=True)\n",
        "\n",
        "    test = torchvision.datasets.CIFAR10(root='./data',train=False,download=True,transform=transform)\n",
        "    test_set = torch.utils.data.DataLoader(test,batch_size=128,shuffle=False)\n",
        "    \n",
        "    #selecting device\n",
        "    dev = torch.device(\"cuda:0\" if torch.cuda.is_available() else \"cpu\")\n",
        "    print(dev)\n",
        "\n",
        "    #ResNet-18 \n",
        "    net = ResNet(simple_block,[2,2,2,2],10)\n",
        "\n",
        "    net.to(dev)\n",
        "    #Loss function\n",
        "    Cost_Func = torch.nn.CrossEntropyLoss()\n",
        "    #SGD function\n",
        "    optimizer =  torch.optim.SGD(net.parameters(),lr=0.02,momentum=0.9)\n",
        "\n",
        "    #Training\n",
        "    for epoch in range(5):\n",
        "        print(\"epoch no:\"+str(epoch))\n",
        "        c_loss = 0\n",
        "        for i,batch in enumerate(train_set,0):\n",
        "            data,output = batch\n",
        "            data,output = data.to(dev),output.to(dev)\n",
        "            predict = net(data)\n",
        "            loss = Cost_Func(predict,output)\n",
        "            c_loss = loss.item()\n",
        "\n",
        "            optimizer.zero_grad()\n",
        "            loss.backward()\n",
        "            optimizer.step()\n",
        "            #print every 100th batch\n",
        "            if i%100 == 0:\n",
        "                print('[epoch no:%d  batch no:%d] loss: %.5f'% (epoch+1,i+1,c_loss/1000))\n",
        "                c_loss = 0\n",
        "        correct_Hits=0\n",
        "        total=0\n",
        "        for batches in test_set:\n",
        "            data,output = batches\n",
        "            data,output = data.to(dev),output.to(dev)\n",
        "            predict = net(data)\n",
        "            _,predict = torch.max(predict.data,1)  #returns max as well as its index\n",
        "            total += output.size(0)\n",
        "            correct_Hits += (predict==output).sum().item()\n",
        "        print('Accuracy on epoch ',epoch+1,'= ',str((correct_Hits/total)*100))\n",
        "        print(\"------------------------------------------------------\")\n",
        "\n",
        "    correct_Hits=0\n",
        "    total=0\n",
        "    #Testing\n",
        "    for batches in test_set:\n",
        "        data,output = batches\n",
        "        data,output = data.to(dev),output.to(dev)\n",
        "        predict = net(data)\n",
        "        _,predict = torch.max(predict.data,1)  #returns max as well as its index\n",
        "        total += output.size(0)\n",
        "        correct_Hits += (predict==output).sum().item()\n",
        "    print('Accuracy = '+str((correct_Hits/total)*100))\n",
        "\n",
        "\n",
        "test()"
      ],
      "execution_count": 20,
      "outputs": [
        {
          "output_type": "stream",
          "text": [
            "Files already downloaded and verified\n",
            "Files already downloaded and verified\n",
            "cuda:0\n",
            "epoch no:0\n",
            "[epoch no:1  batch no:1] loss: 0.00233\n",
            "[epoch no:1  batch no:101] loss: 0.00148\n",
            "[epoch no:1  batch no:201] loss: 0.00119\n",
            "[epoch no:1  batch no:301] loss: 0.00110\n",
            "Accuracy on epoch  1 =  65.29\n",
            "------------------------------------------------------\n",
            "epoch no:1\n",
            "[epoch no:2  batch no:1] loss: 0.00096\n",
            "[epoch no:2  batch no:101] loss: 0.00090\n",
            "[epoch no:2  batch no:201] loss: 0.00083\n",
            "[epoch no:2  batch no:301] loss: 0.00076\n",
            "Accuracy on epoch  2 =  75.58\n",
            "------------------------------------------------------\n",
            "epoch no:2\n",
            "[epoch no:3  batch no:1] loss: 0.00062\n",
            "[epoch no:3  batch no:101] loss: 0.00062\n",
            "[epoch no:3  batch no:201] loss: 0.00056\n",
            "[epoch no:3  batch no:301] loss: 0.00053\n",
            "Accuracy on epoch  3 =  78.94\n",
            "------------------------------------------------------\n",
            "epoch no:3\n",
            "[epoch no:4  batch no:1] loss: 0.00037\n",
            "[epoch no:4  batch no:101] loss: 0.00042\n",
            "[epoch no:4  batch no:201] loss: 0.00036\n",
            "[epoch no:4  batch no:301] loss: 0.00044\n",
            "Accuracy on epoch  4 =  81.28999999999999\n",
            "------------------------------------------------------\n",
            "epoch no:4\n",
            "[epoch no:5  batch no:1] loss: 0.00022\n",
            "[epoch no:5  batch no:101] loss: 0.00035\n",
            "[epoch no:5  batch no:201] loss: 0.00026\n",
            "[epoch no:5  batch no:301] loss: 0.00030\n",
            "Accuracy on epoch  5 =  80.81\n",
            "------------------------------------------------------\n",
            "Accuracy = 80.81\n"
          ],
          "name": "stdout"
        }
      ]
    },
    {
      "metadata": {
        "id": "dwzTQcSVcoR2",
        "colab_type": "code",
        "colab": {}
      },
      "cell_type": "code",
      "source": [
        ""
      ],
      "execution_count": 0,
      "outputs": []
    }
  ]
}