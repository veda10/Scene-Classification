{
  "nbformat": 4,
  "nbformat_minor": 0,
  "metadata": {
    "colab": {
      "name": "q1.ipynb",
      "version": "0.3.2",
      "provenance": []
    },
    "kernelspec": {
      "name": "python3",
      "display_name": "Python 3"
    },
    "accelerator": "GPU"
  },
  "cells": [
    {
      "metadata": {
        "id": "1J6ra_xDr0rN",
        "colab_type": "code",
        "colab": {
          "base_uri": "https://localhost:8080/",
          "height": 34
        },
        "outputId": "f6872bf2-afc3-44d5-fdff-e5282c84c7bc"
      },
      "cell_type": "code",
      "source": [
        "from google.colab import drive\n",
        "drive.mount('/content/drive')"
      ],
      "execution_count": 1,
      "outputs": [
        {
          "output_type": "stream",
          "text": [
            "Drive already mounted at /content/drive; to attempt to forcibly remount, call drive.mount(\"/content/drive\", force_remount=True).\n"
          ],
          "name": "stdout"
        }
      ]
    },
    {
      "metadata": {
        "id": "d5hawNw0sL9N",
        "colab_type": "code",
        "colab": {}
      },
      "cell_type": "code",
      "source": [
        "import csv\n",
        "import cv2\n",
        "import numpy as np\n",
        "from matplotlib import pyplot as plt\n",
        "from sklearn.metrics import confusion_matrix\n",
        "from sklearn.model_selection import train_test_split\n",
        "from sklearn.cluster import KMeans\n",
        "from sklearn.decomposition import PCA\n",
        "from sklearn.metrics import accuracy_score\n",
        "from sklearn.neighbors import KNeighborsClassifier\n",
        "from scipy.spatial import distance\n"
      ],
      "execution_count": 0,
      "outputs": []
    },
    {
      "metadata": {
        "id": "-KvOn3SJsUWC",
        "colab_type": "code",
        "colab": {}
      },
      "cell_type": "code",
      "source": [
        "def read_sift_descriptors(path, name, number_of_images):\n",
        "\tsift_features_of_all_images = []\n",
        "\tnumber_of_features_in_each_image = []\n",
        "\tfor i in range(1, number_of_images + 1):\n",
        "\t\ttrain_file = path + '/' + str(i) + '_' + name + '_sift.csv'\n",
        "\t\tcsvfile = open(train_file, 'rt')\n",
        "\t\tcsvfile = csv.reader(csvfile)\n",
        "\t\tnumber_of_features = 0\n",
        "\t\tfor x in csvfile:\n",
        "\t\t\tsift_features_of_all_images.append(list(map(int, x[4:])))\n",
        "\t\t\tnumber_of_features+=1\n",
        "\t\tnumber_of_features_in_each_image.append(number_of_features)\n",
        "\treturn sift_features_of_all_images, number_of_features_in_each_image"
      ],
      "execution_count": 0,
      "outputs": []
    },
    {
      "metadata": {
        "id": "g5vhwypWsXJF",
        "colab_type": "code",
        "colab": {}
      },
      "cell_type": "code",
      "source": [
        "def compute_visual_words_k_means(train_sift_features, test_sift_features, no_k_clusters):\n",
        "\tk_means = KMeans(n_clusters = no_k_clusters)\n",
        "\tk_means.fit(train_sift_features)\n",
        "\tcentroids = k_means.cluster_centers_\n",
        "\tlabels = k_means.labels_\n",
        "\treturn centroids, labels"
      ],
      "execution_count": 0,
      "outputs": []
    },
    {
      "metadata": {
        "id": "XifKuLBTsaqL",
        "colab_type": "code",
        "colab": {}
      },
      "cell_type": "code",
      "source": [
        "def find_similarity(image_sift_feature, cluster_centroids):\n",
        "\tindex = 0\n",
        "\tdistances = []\n",
        "\tfor feature in cluster_centroids:\n",
        "\t\td = distance.euclidean(feature, image_sift_feature)\n",
        "\t\tdistances.append(d)\n",
        "\tindex = distances.index(min(distances))\n",
        "\treturn index"
      ],
      "execution_count": 0,
      "outputs": []
    },
    {
      "metadata": {
        "id": "rzNjA7OLsdRK",
        "colab_type": "code",
        "colab": {}
      },
      "cell_type": "code",
      "source": [
        "def visual_words_representation_of_images(All_sift_features, number_of_features_in_each_image, cluster_centroids, no_k_clusters):\n",
        "\timages = []\n",
        "\tcount = 0\n",
        "\ti = 0\n",
        "\timage_feature = [0]*no_k_clusters\n",
        "\tfor image_sift_feature in All_sift_features:\n",
        "\t\tindex = find_similarity(image_sift_feature, cluster_centroids)\n",
        "\t\timage_feature[index] += 1\n",
        "\t\tcount+=1\n",
        "\t\tif count == number_of_features_in_each_image[i]:\n",
        "\t\t\timages.append(image_feature)\n",
        "\t\t\timage_feature = [0]*no_k_clusters\n",
        "\t\t\tcount = 0\n",
        "\t\t\ti+=1\n",
        "\treturn images"
      ],
      "execution_count": 0,
      "outputs": []
    },
    {
      "metadata": {
        "id": "WsQhbE2nsfow",
        "colab_type": "code",
        "colab": {}
      },
      "cell_type": "code",
      "source": [
        "def read_labels(path):\n",
        "\twith open(path,'rU') as csvfile:\n",
        "\t\tcsvfile = csv.reader(csvfile, delimiter=',')\n",
        "\t\tcsvdata = list(csvfile)\n",
        "\t\treturn list(map(int, csvdata[0]))\n"
      ],
      "execution_count": 0,
      "outputs": []
    },
    {
      "metadata": {
        "id": "0aPaTmplsilf",
        "colab_type": "code",
        "colab": {}
      },
      "cell_type": "code",
      "source": [
        "def kNN_classifer(train_images, train_labels, k_NN):\n",
        "\tknn = KNeighborsClassifier(n_neighbors = k_NN)\n",
        "\tknn.fit(train_images, train_labels)\n",
        "\treturn knn\n"
      ],
      "execution_count": 0,
      "outputs": []
    },
    {
      "metadata": {
        "id": "UbIYxjaCskn2",
        "colab_type": "code",
        "colab": {}
      },
      "cell_type": "code",
      "source": [
        "def display_confusion_matrix(test_labels, test_prediction):\n",
        "    print(confusion_matrix(test_labels, test_prediction))\n"
      ],
      "execution_count": 0,
      "outputs": []
    },
    {
      "metadata": {
        "id": "4H7oImyVsmq-",
        "colab_type": "code",
        "colab": {}
      },
      "cell_type": "code",
      "source": [
        "def display_categorization_accuracy(test_labels, test_prediction):\n",
        "\tcategorization_accuracy = accuracy_score(test_labels, test_prediction)\n",
        "\tprint(categorization_accuracy)\n"
      ],
      "execution_count": 0,
      "outputs": []
    },
    {
      "metadata": {
        "id": "dzdxRnQQspQn",
        "colab_type": "code",
        "colab": {
          "base_uri": "https://localhost:8080/",
          "height": 510
        },
        "outputId": "80582180-ad93-40e5-9161-b4557b6c62ff"
      },
      "cell_type": "code",
      "source": [
        "# === Main function === #\n",
        "\n",
        "# sift features of training set\n",
        "train_sift_features, number_of_features_in_each_train_image = read_sift_descriptors('drive/My Drive/HW3_data/train_sift_features', 'train', 1888)\n",
        "print(len(number_of_features_in_each_train_image))\n",
        "\n",
        "# sift features of test set\n",
        "test_sift_features, number_of_features_in_each_test_image = read_sift_descriptors('drive/My Drive/HW3_data/test_sift_features', 'test', 800)\n",
        "print(len(number_of_features_in_each_test_image))\n",
        "\n",
        "# Use K-means to compute visual words # Cluster descriptors\n",
        "no_k_clusters = 16\n",
        "print(no_k_clusters)\n",
        "#centres and labels of clusters\n",
        "cluster_centroids, labels = compute_visual_words_k_means(train_sift_features, test_sift_features, no_k_clusters)\n",
        "print(cluster_centroids)\n",
        "\n",
        "# Training\n",
        "# Represent each image by normalized counts of visual words\n",
        "train_images = visual_words_representation_of_images(train_sift_features, number_of_features_in_each_train_image, cluster_centroids, no_k_clusters)\n",
        "train_labels_path = 'drive/My Drive/HW3_data/train_labels.csv'\n",
        "train_labels = read_labels(train_labels_path)\n",
        "\n",
        "# Train the images using kNN classifer\n",
        "k_NN = 5\n",
        "kNN_model = kNN_classifer(train_images, train_labels, k_NN)\n",
        "\n",
        "# Testing\n",
        "test_images = visual_words_representation_of_images(test_sift_features, number_of_features_in_each_test_image, cluster_centroids, no_k_clusters)\n",
        "test_prediction = kNN_model.predict(test_images)\n",
        "test_labels_path = 'drive/My Drive/HW3_data/test_labels.csv'\n",
        "test_labels = read_labels(test_labels_path)\n",
        "\n",
        "# Confusion matrix\n",
        "display_confusion_matrix(test_labels, test_prediction)\n",
        "\n",
        "# Categorization Accuracy\n",
        "display_categorization_accuracy(test_labels, test_prediction)\n"
      ],
      "execution_count": 12,
      "outputs": [
        {
          "output_type": "stream",
          "text": [
            "1888\n",
            "800\n",
            "16\n",
            "[[85.71761853 18.34502664  1.61009018 ...  3.43346086  3.30615521\n",
            "  21.71406613]\n",
            " [27.30801432 11.15926376  5.78136384 ... 12.03428772 10.44749792\n",
            "  17.0606506 ]\n",
            " [29.73143976 17.41290537  9.79711162 ... 24.0417744  28.66510305\n",
            "  27.16495531]\n",
            " ...\n",
            " [29.34153989 13.77764874  7.53989084 ... 40.94479929  8.52370998\n",
            "   8.95823172]\n",
            " [23.20251151 14.5253244  12.88078694 ... 16.34830473 14.33357053\n",
            "  12.20778568]\n",
            " [19.20100975 13.23168524  7.79052925 ...  6.39171309  9.55539694\n",
            "  42.99899025]]\n"
          ],
          "name": "stdout"
        },
        {
          "output_type": "stream",
          "text": [
            "/usr/local/lib/python3.6/dist-packages/ipykernel_launcher.py:2: DeprecationWarning: 'U' mode is deprecated\n",
            "  \n"
          ],
          "name": "stderr"
        },
        {
          "output_type": "stream",
          "text": [
            "[[49  0 21  2 11 11  1  5]\n",
            " [ 0 84  0  0  3  0  8  5]\n",
            " [31  0 33  4  5 13 11  3]\n",
            " [ 6 11  6 37  3 10 17 10]\n",
            " [14  3  3  7 35 22 11  5]\n",
            " [23  5  7  2 12 32 10  9]\n",
            " [ 5  3  2 14 13  9 47  7]\n",
            " [13  4  3 14  9 14  6 37]]\n",
            "0.4425\n"
          ],
          "name": "stdout"
        },
        {
          "output_type": "stream",
          "text": [
            "/usr/local/lib/python3.6/dist-packages/ipykernel_launcher.py:2: DeprecationWarning: 'U' mode is deprecated\n",
            "  \n"
          ],
          "name": "stderr"
        }
      ]
    },
    {
      "metadata": {
        "id": "TE1duMqTsskT",
        "colab_type": "code",
        "colab": {}
      },
      "cell_type": "code",
      "source": [
        ""
      ],
      "execution_count": 0,
      "outputs": []
    }
  ]
}